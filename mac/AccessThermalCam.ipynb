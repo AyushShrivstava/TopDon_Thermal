{
 "cells": [
  {
   "cell_type": "code",
   "execution_count": 1,
   "metadata": {},
   "outputs": [],
   "source": [
    "import matplotlib.pyplot as plt\n",
    "import cv2\n",
    "import numpy as np\n",
    "import subprocess\n",
    "from ultralytics import YOLO\n",
    "import time"
   ]
  },
  {
   "cell_type": "code",
   "execution_count": 2,
   "metadata": {},
   "outputs": [
    {
     "name": "stdout",
     "output_type": "stream",
     "text": [
      "Processed 79 frames\n",
      "Average FPS: 19.53\n",
      "Average inference time: nan ms\n"
     ]
    },
    {
     "name": "stderr",
     "output_type": "stream",
     "text": [
      "/Users/ayushshrivastava/miniconda3/envs/python3.9/lib/python3.9/site-packages/numpy/core/fromnumeric.py:3504: RuntimeWarning: Mean of empty slice.\n",
      "  return _methods._mean(a, axis=axis, dtype=dtype,\n",
      "/Users/ayushshrivastava/miniconda3/envs/python3.9/lib/python3.9/site-packages/numpy/core/_methods.py:129: RuntimeWarning: invalid value encountered in scalar divide\n",
      "  ret = ret.dtype.type(ret / rcount)\n"
     ]
    }
   ],
   "source": [
    "# FFmpeg command\n",
    "ffmpeg_cmd = [\n",
    "    \"ffmpeg\",\n",
    "    \"-f\", \"avfoundation\",  # Use AVFoundation input\n",
    "    \"-framerate\", \"25\",    # Set frame rate\n",
    "    \"-video_size\", \"256x384\",  # Set resolution\n",
    "    \"-pixel_format\", \"yuyv422\",  # Set input pixel format\n",
    "    \"-i\", \"0\",  # Camera index (change if needed)\n",
    "    \"-f\", \"rawvideo\",  # Output as raw video\n",
    "    \"-pix_fmt\", \"bgr24\",  # Convert to OpenCV-friendly format\n",
    "    \"-\"  # Output to stdout\n",
    "]\n",
    "\n",
    "# Start FFmpeg process\n",
    "process = subprocess.Popen(ffmpeg_cmd, stdout=subprocess.PIPE, stderr=subprocess.DEVNULL, bufsize=10**8)\n",
    "\n",
    "width, height = 256, 384 # Set resolution\n",
    "\n",
    "frame_number = 0\n",
    "infer_time = []\n",
    "start_time = time.time()\n",
    "\n",
    "while True:\n",
    "    # Read one frame from FFmpeg output\n",
    "    frame_size = width * height * 3  # BGR24 has 3 channels\n",
    "    frame_bytes = process.stdout.read(frame_size)\n",
    "\n",
    "    if not frame_bytes:\n",
    "        break  # End of stream\n",
    "\n",
    "    # Convert bytes to numpy array\n",
    "    frame = np.frombuffer(frame_bytes, np.uint8).reshape((height, width, 3))\n",
    "\n",
    "    imdata,thdata = np.array_split(frame, 2)\n",
    "\n",
    "    imdata = cv2.resize(imdata, (512,384), interpolation = cv2.INTER_CUBIC)\n",
    "\n",
    "    # Show frame\n",
    "    cv2.imshow(\"Camera\", imdata)\n",
    "\n",
    "    frame_number += 1\n",
    "\n",
    "    if cv2.waitKey(1) & 0xFF == ord(\"q\"):\n",
    "        cv2.waitKey(1)\n",
    "        cv2.destroyAllWindows()\n",
    "        break\n",
    "\n",
    "end_time = time.time()\n",
    "fps = frame_number / (end_time - start_time)\n",
    "print(f\"Processed {frame_number} frames\")\n",
    "print(f\"Average FPS: {fps:.2f}\")\n",
    "print(f\"Average inference time: {np.mean(infer_time):.2f} ms\")\n",
    "\n",
    "# Cleanup\n",
    "process.terminate()\n",
    "cv2.waitKey(1)\n",
    "cv2.destroyAllWindows()"
   ]
  }
 ],
 "metadata": {
  "kernelspec": {
   "display_name": "python3.9",
   "language": "python",
   "name": "python3"
  },
  "language_info": {
   "codemirror_mode": {
    "name": "ipython",
    "version": 3
   },
   "file_extension": ".py",
   "mimetype": "text/x-python",
   "name": "python",
   "nbconvert_exporter": "python",
   "pygments_lexer": "ipython3",
   "version": "3.9.18"
  }
 },
 "nbformat": 4,
 "nbformat_minor": 2
}
